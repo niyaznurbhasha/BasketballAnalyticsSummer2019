{
 "cells": [
  {
   "cell_type": "code",
   "execution_count": 2,
   "metadata": {},
   "outputs": [],
   "source": [
    "import os, json\n",
    "import copy\n",
    "import pandas as pd"
   ]
  },
  {
   "cell_type": "code",
   "execution_count": 3,
   "metadata": {},
   "outputs": [
    {
     "name": "stdout",
     "output_type": "stream",
     "text": [
      "dict_keys(['frame16848.jpg', 'frame19608.jpg', 'frame1032.jpg', 'frame11988.jpg', 'frame9144.jpg', 'frame192.jpg', 'frame14376.jpg', 'frame13584.jpg', 'frame4308.jpg', 'frame15024.jpg', 'frame10284.jpg', 'frame11880.jpg', 'frame11676.jpg', 'frame18360.jpg', 'frame10524.jpg', 'frame15972.jpg', 'frame4200.jpg', 'frame13224.jpg', 'frame7500.jpg', 'frame19032.jpg', 'frame1608.jpg', 'frame11004.jpg', 'frame7440.jpg', 'frame9096.jpg', 'frame10464.jpg', 'frame10356.jpg', 'frame1824.jpg', 'frame12036.jpg', 'frame11736.jpg', 'frame984.jpg', 'frame16800.jpg', 'frame5628.jpg', 'frame7548.jpg', 'frame6780.jpg', 'frame11952.jpg', 'frame4248.jpg', 'frame16908.jpg', 'frame12960.jpg', 'frame19104.jpg', 'frame9648.jpg', 'frame12984.jpg', 'frame18564.jpg', 'frame15180.jpg', 'frame10320.jpg', 'frame4404.jpg', 'frame9924.jpg', 'frame17448.jpg', 'frame16680.jpg', 'frame5064.jpg', 'frame6900.jpg', 'frame960.jpg', 'frame2136.jpg', 'frame13380.jpg', 'frame2604.jpg', 'frame8412.jpg', 'frame3264.jpg', 'frame16788.jpg', 'frame1104.jpg', 'frame9072.jpg', 'frame9132.jpg', 'frame1044.jpg', 'frame15996.jpg', 'frame3324.jpg', 'frame17400.jpg', 'frame10368.jpg', 'frame16752.jpg', 'frame2076.jpg', 'frame9600.jpg', 'frame18384.jpg', 'frame1980.jpg', 'frame1776.jpg', 'frame12192.jpg', 'frame6840.jpg', 'frame5124.jpg', 'frame19776.jpg', 'frame13560.jpg', 'frame17508.jpg', 'frame9864.jpg', 'frame14208.jpg', 'frame10260.jpg', 'frame6624.jpg', 'frame9708.jpg', 'frame5616.jpg', 'frame19044.jpg', 'frame6948.jpg', 'frame18144.jpg', 'frame4716.jpg', 'frame10032.jpg', 'frame7848.jpg', 'frame5376.jpg', 'frame19524.jpg', 'frame8964.jpg', 'frame324.jpg', 'frame1284.jpg', 'frame8700.jpg', 'frame19284.jpg', 'frame13092.jpg', 'frame9360.jpg', 'frame17652.jpg', 'frame11268.jpg', 'frame1524.jpg', 'frame17160.jpg', 'frame10608.jpg', 'frame13956.jpg', 'frame16500.jpg', 'frame17688.jpg', 'frame2364.jpg', 'frame16440.jpg', 'frame8172.jpg', 'frame11580.jpg', 'frame1464.jpg', 'frame11328.jpg', 'frame18096.jpg', 'frame17712.jpg', 'frame3036.jpg', 'frame1356.jpg', 'frame10824.jpg', 'frame7800.jpg', 'frame8640.jpg', 'frame17976.jpg', 'frame6204.jpg', 'frame16548.jpg', 'frame4164.jpg', 'frame14628.jpg', 'frame264.jpg', 'frame13140.jpg', 'frame19356.jpg', 'frame11220.jpg', 'frame13884.jpg', 'frame19464.jpg', 'frame3960.jpg', 'frame7908.jpg', 'frame4656.jpg', 'frame8748.jpg', 'frame18648.jpg', 'frame13860.jpg', 'frame17808.jpg', 'frame9564.jpg', 'frame15336.jpg', 'frame3984.jpg', 'frame18924.jpg', 'frame1320.jpg', 'frame14064.jpg', 'frame4728.jpg', 'frame7680.jpg', 'frame13968.jpg', 'frame11256.jpg', 'frame19320.jpg', 'frame8196.jpg', 'frame18072.jpg', 'frame4620.jpg', 'frame10104.jpg', 'frame7788.jpg', 'frame12264.jpg', 'frame6540.jpg', 'frame17184.jpg', 'frame12324.jpg', 'frame10044.jpg', 'frame18132.jpg', 'frame1368.jpg', 'frame11424.jpg', 'frame7752.jpg', 'frame19260.jpg', 'frame11316.jpg', 'frame3192.jpg', 'frame10980.jpg', 'frame10776.jpg', 'frame18600.jpg', 'frame9384.jpg', 'frame4668.jpg', 'frame14124.jpg', 'frame1260.jpg', 'frame18864.jpg', 'frame5208.jpg', 'frame6492.jpg', 'frame15276.jpg', 'frame19368.jpg', 'frame13920.jpg', 'frame18708.jpg', 'frame14616.jpg', 'frame16884.jpg', 'frame900.jpg', 'frame8340.jpg', 'frame6960.jpg', 'frame9720.jpg', 'frame1656.jpg', 'frame13548.jpg', 'frame17520.jpg', 'frame12780.jpg', 'frame3204.jpg', 'frame11628.jpg', 'frame9012.jpg', 'frame1164.jpg', 'frame2664.jpg', 'frame2892.jpg', 'frame16140.jpg', 'frame17388.jpg', 'frame5952.jpg', 'frame14220.jpg', 'frame8472.jpg', 'frame10248.jpg', 'frame6036.jpg', 'frame18504.jpg', 'frame4356.jpg', 'frame5736.jpg', 'frame19164.jpg', 'frame13440.jpg', 'frame14580.jpg', 'frame5004.jpg', 'frame19656.jpg', 'frame17280.jpg', 'frame14328.jpg', 'frame4464.jpg', 'frame4524.jpg', 'frame10200.jpg', 'frame14268.jpg', 'frame9804.jpg', 'frame8292.jpg', 'frame19716.jpg', 'frame17568.jpg', 'frame16956.jpg', 'frame7224.jpg', 'frame624.jpg', 'frame13500.jpg', 'frame5880.jpg', 'frame5676.jpg', 'frame9768.jpg', 'frame2940.jpg', 'frame16092.jpg', 'frame15792.jpg', 'frame18444.jpg', 'frame948.jpg', 'frame8532.jpg', 'frame10308.jpg', 'frame7584.jpg', 'frame2724.jpg', 'frame4284.jpg', 'frame17460.jpg', 'frame1716.jpg', 'frame5988.jpg', 'frame9660.jpg', 'frame17352.jpg', 'frame2016.jpg', 'frame840.jpg', 'frame3492.jpg', 'frame18300.jpg', 'frame9684.jpg', 'frame16920.jpg', 'frame12948.jpg', 'frame11616.jpg', 'frame15888.jpg', 'frame7560.jpg', 'frame11124.jpg', 'frame1668.jpg', 'frame17484.jpg', 'frame12624.jpg', 'frame18432.jpg', 'frame15912.jpg', 'frame4260.jpg', 'frame14316.jpg', 'frame8544.jpg', 'frame12840.jpg', 'frame6192.jpg', 'frame19668.jpg', 'frame14424.jpg', 'frame4368.jpg', 'frame7380.jpg', 'frame780.jpg', 'frame1620.jpg', 'frame9756.jpg', 'frame3540.jpg', 'frame19728.jpg', 'frame15636.jpg', 'frame17556.jpg', 'frame12900.jpg', 'frame16968.jpg', 'frame14256.jpg', 'frame18348.jpg', 'frame4320.jpg', 'frame15852.jpg', 'frame10404.jpg', 'frame2028.jpg', 'frame1728.jpg', 'frame8496.jpg', 'frame11064.jpg', 'frame19620.jpg', 'frame16860.jpg', 'frame18240.jpg', 'frame6984.jpg', 'frame8832.jpg', 'frame7884.jpg', 'frame10656.jpg', 'frame18720.jpg', 'frame17796.jpg', 'frame13908.jpg', 'frame10164.jpg', 'frame18012.jpg', 'frame3780.jpg', 'frame12204.jpg', 'frame1248.jpg', 'frame14952.jpg', 'frame5220.jpg', 'frame540.jpg', 'frame7140.jpg', 'frame4824.jpg', 'frame19248.jpg', 'frame9504.jpg', 'frame14736.jpg', 'frame17868.jpg', 'frame13800.jpg', 'frame5580.jpg', 'frame14004.jpg', 'frame5328.jpg', 'frame5268.jpg', 'frame18804.jpg', 'frame1200.jpg', 'frame7956.jpg', 'frame16224.jpg', 'frame4608.jpg', 'frame2232.jpg', 'frame492.jpg', 'frame7092.jpg', 'frame17928.jpg', 'frame14880.jpg', 'frame14676.jpg', 'frame18768.jpg', 'frame9444.jpg', 'frame19308.jpg', 'frame15216.jpg', 'frame16584.jpg', 'frame1308.jpg', 'frame13848.jpg', 'frame17820.jpg', 'frame14988.jpg', 'frame18660.jpg', 'frame10716.jpg', 'frame4032.jpg', 'frame2592.jpg', 'frame11376.jpg', 'frame19200.jpg', 'frame8784.jpg', 'frame15552.jpg', 'frame9300.jpg', 'frame18684.jpg', 'frame12492.jpg', 'frame8760.jpg', 'frame3948.jpg', 'frame7920.jpg', 'frame10668.jpg', 'frame8052.jpg', 'frame16560.jpg', 'frame2244.jpg', 'frame9432.jpg', 'frame11208.jpg', 'frame3624.jpg', 'frame17100.jpg', 'frame5316.jpg', 'frame13752.jpg', 'frame4980.jpg', 'frame4776.jpg', 'frame3840.jpg', 'frame4044.jpg', 'frame6324.jpg', 'frame17856.jpg', 'frame36.jpg', 'frame8904.jpg', 'frame5424.jpg', 'frame16380.jpg', 'frame204.jpg', 'frame17148.jpg', 'frame8844.jpg', 'frame15228.jpg', 'frame13788.jpg', 'frame17916.jpg', 'frame6264.jpg', 'frame12540.jpg', 'frame18756.jpg', 'frame15480.jpg', 'frame10620.jpg', 'frame4104.jpg', 'frame7968.jpg', 'frame3900.jpg', 'frame5256.jpg', 'frame9348.jpg', 'frame19404.jpg', 'frame17040.jpg', 'frame1404.jpg', 'frame13680.jpg', 'frame2304.jpg', 'frame10728.jpg', 'frame15588.jpg', 'frame8112.jpg', 'frame7860.jpg', 'frame2436.jpg', 'frame17772.jpg', 'frame9240.jpg', 'frame8088.jpg', 'frame8028.jpg', 'frame5556.jpg', 'frame4968.jpg', 'frame2496.jpg', 'frame14916.jpg', 'frame15528.jpg', 'frame10788.jpg', 'frame13620.jpg', 'frame7104.jpg', 'frame504.jpg', 'frame14148.jpg', 'frame6564.jpg', 'frame12240.jpg', 'frame14772.jpg', 'frame9540.jpg', 'frame15312.jpg', 'frame4860.jpg', 'frame3756.jpg', 'frame18900.jpg', 'frame11448.jpg', 'frame10680.jpg', 'frame15420.jpg', 'frame13728.jpg', 'frame14040.jpg', 'frame15288.jpg', 'frame16320.jpg', 'frame12348.jpg', 'frame16260.jpg', 'frame2544.jpg', 'frame5484.jpg', 'frame14100.jpg', 'frame96.jpg', 'frame6384.jpg', 'frame13668.jpg', 'frame18840.jpg', 'frame11508.jpg', 'frame4920.jpg', 'frame15252.jpg', 'frame3684.jpg', 'frame12300.jpg', 'frame16368.jpg', 'frame9492.jpg', 'frame7044.jpg', 'frame444.jpg', 'frame15468.jpg', 'frame18948.jpg', 'frame14856.jpg', 'frame11400.jpg', 'frame7980.jpg', 'frame7776.jpg', 'frame12432.jpg', 'frame10752.jpg', 'frame18624.jpg', 'frame8724.jpg', 'frame2532.jpg', 'frame14928.jpg', 'frame15516.jpg', 'frame4092.jpg', 'frame17880.jpg', 'frame17676.jpg', 'frame5568.jpg', 'frame4956.jpg', 'frame1500.jpg', 'frame7608.jpg', 'frame3660.jpg', 'frame8016.jpg', 'frame16524.jpg', 'frame3804.jpg', 'frame5352.jpg', 'frame14820.jpg', 'frame19500.jpg', 'frame10848.jpg', 'frame13716.jpg', 'frame7032.jpg', 'frame432.jpg', 'frame2292.jpg', 'frame17988.jpg', 'frame5460.jpg', 'frame8940.jpg', 'frame16284.jpg', 'frame300.jpg', 'frame3768.jpg', 'frame6360.jpg', 'frame72.jpg', 'frame12444.jpg', 'frame17952.jpg', 'frame12504.jpg', 'frame4140.jpg', 'frame5388.jpg', 'frame13164.jpg', 'frame240.jpg', 'frame1548.jpg', 'frame5520.jpg', 'frame13656.jpg', 'frame19440.jpg', 'frame10908.jpg', 'frame14796.jpg', 'frame4884.jpg', 'frame16464.jpg', 'frame2340.jpg', 'frame5280.jpg', 'frame3720.jpg', 'frame17004.jpg', 'frame348.jpg', 'frame1440.jpg', 'frame3012.jpg', 'frame17736.jpg', 'frame19548.jpg', 'frame15456.jpg', 'frame10800.jpg', 'frame9204.jpg', 'frame14868.jpg', 'frame18780.jpg', 'frame16356.jpg', 'frame7824.jpg', 'frame2472.jpg', 'frame8892.jpg', 'frame8664.jpg', 'frame6924.jpg', 'frame17256.jpg', 'frame2112.jpg', 'frame8304.jpg', 'frame19680.jpg', 'frame14556.jpg', 'frame6648.jpg', 'frame16104.jpg', 'frame1788.jpg', 'frame8436.jpg', 'frame5916.jpg', 'frame3240.jpg', 'frame2088.jpg', 'frame4380.jpg', 'frame5148.jpg', 'frame2844.jpg', 'frame5772.jpg', 'frame12756.jpg', 'frame6072.jpg', 'frame15696.jpg', 'frame18540.jpg', 'frame11808.jpg', 'frame1680.jpg', 'frame9900.jpg', 'frame3348.jpg', 'frame720.jpg', 'frame7320.jpg', 'frame13404.jpg', 'frame5040.jpg', 'frame14484.jpg', 'frame5100.jpg', 'frame19752.jpg', 'frame660.jpg', 'frame7260.jpg', 'frame9840.jpg', 'frame4560.jpg', 'frame6600.jpg', 'frame6132.jpg', 'frame2904.jpg', 'frame18492.jpg', 'frame15744.jpg', 'frame768.jpg', 'frame7368.jpg', 'frame12684.jpg', 'frame17424.jpg', 'frame3300.jpg', 'frame9948.jpg', 'frame11184.jpg', 'frame5856.jpg', 'frame2760.jpg', 'frame16044.jpg', 'frame6708.jpg', 'frame15828.jpg', 'frame8244.jpg', 'frame2052.jpg', 'frame16980.jpg', 'frame16776.jpg', 'frame804.jpg', 'frame9624.jpg', 'frame1752.jpg', 'frame17316.jpg', 'frame6864.jpg', 'frame3432.jpg', 'frame11652.jpg', 'frame5928.jpg', 'frame12660.jpg', 'frame6144.jpg', 'frame16608.jpg', 'frame4224.jpg', 'frame10500.jpg', 'frame14568.jpg', 'frame17268.jpg', 'frame2784.jpg', 'frame7524.jpg', 'frame13200.jpg', 'frame8592.jpg', 'frame15108.jpg', 'frame11160.jpg', 'frame12804.jpg', 'frame15732.jpg', 'frame16032.jpg', 'frame1848.jpg', 'frame14352.jpg', 'frame5820.jpg', 'frame12768.jpg', 'frame684.jpg', 'frame7284.jpg', 'frame8232.jpg', 'frame14460.jpg', 'frame3444.jpg', 'frame13308.jpg', 'frame4584.jpg', 'frame15000.jpg', 'frame14388.jpg', 'frame13248.jpg', 'frame17220.jpg', 'frame3504.jpg', 'frame14520.jpg', 'frame11976.jpg', 'frame10548.jpg', 'frame5796.jpg', 'frame1908.jpg', 'frame15672.jpg', 'frame6096.jpg', 'frame14280.jpg', 'frame15048.jpg', 'frame7464.jpg', 'frame2832.jpg', 'frame17328.jpg', 'frame11688.jpg', 'frame15816.jpg', 'frame10440.jpg', 'frame12720.jpg', 'frame17580.jpg', 'frame18204.jpg', 'frame5868.jpg', 'frame9780.jpg', 'frame1800.jpg', 'frame12012.jpg', 'frame11712.jpg', 'frame756.jpg', 'frame7356.jpg', 'frame16824.jpg', 'frame19560.jpg', 'frame13980.jpg', 'frame13776.jpg', 'frame4752.jpg', 'frame3864.jpg', 'frame6432.jpg', 'frame12.jpg', 'frame6300.jpg', 'frame14184.jpg', 'frame5400.jpg', 'frame3708.jpg', 'frame360.jpg', 'frame13044.jpg', 'frame10920.jpg', 'frame15576.jpg', 'frame9324.jpg', 'frame17616.jpg', 'frame3132.jpg', 'frame8076.jpg', 'frame11484.jpg', 'frame1560.jpg', 'frame18192.jpg', 'frame5508.jpg', 'frame12384.jpg', 'frame17124.jpg', 'frame3600.jpg', 'frame7668.jpg', 'frame7728.jpg', 'frame17064.jpg', 'frame5448.jpg', 'frame4680.jpg', 'frame16404.jpg', 'frame6348.jpg', 'frame8136.jpg', 'frame2412.jpg', 'frame8604.jpg', 'frame19380.jpg', 'frame3072.jpg', 'frame14808.jpg', 'frame9264.jpg', 'frame10860.jpg', 'frame7620.jpg', 'frame13104.jpg', 'frame3648.jpg', 'frame4788.jpg', 'frame12564.jpg', 'frame6240.jpg', 'frame18984.jpg', 'frame1380.jpg', 'frame3924.jpg', 'frame15396.jpg', 'frame11556.jpg', 'frame10968.jpg', 'frame15372.jpg', 'frame4800.jpg', 'frame14712.jpg', 'frame13824.jpg', 'frame11280.jpg', 'frame14688.jpg', 'frame18960.jpg', 'frame4908.jpg', 'frame7656.jpg', 'frame10884.jpg', 'frame3096.jpg', 'frame10140.jpg', 'frame11388.jpg', 'frame18036.jpg', 'frame6504.jpg', 'frame16248.jpg', 'frame11520.jpg', 'frame14976.jpg', 'frame17628.jpg', 'frame7164.jpg', 'frame564.jpg', 'frame11460.jpg', 'frame15408.jpg', 'frame16308.jpg', 'frame12360.jpg', 'frame6444.jpg', 'frame1584.jpg', 'frame7716.jpg', 'frame13032.jpg', 'frame11352.jpg', 'frame19224.jpg', 'frame4848.jpg', 'frame13608.jpg', 'frame3144.jpg', 'frame11568.jpg', 'frame10956.jpg', 'frame1224.jpg', 'frame384.jpg', 'frame16200.jpg', 'frame14160.jpg', 'frame14652.jpg', 'frame19584.jpg', 'frame10092.jpg', 'frame12864.jpg', 'frame13368.jpg', 'frame6684.jpg', 'frame15060.jpg', 'frame12708.jpg', 'frame11856.jpg', 'frame5184.jpg', 'frame14400.jpg', 'frame12132.jpg', 'frame18324.jpg', 'frame1920.jpg', 'frame13260.jpg', 'frame144.jpg', 'frame17208.jpg', 'frame11100.jpg', 'frame15168.jpg', 'frame16668.jpg', 'frame3384.jpg', 'frame12600.jpg', 'frame9192.jpg', 'frame14508.jpg', 'frame10560.jpg', 'frame15936.jpg', 'frame15876.jpg', 'frame14448.jpg', 'frame16728.jpg', 'frame11040.jpg', 'frame13320.jpg', 'frame7404.jpg', 'frame11772.jpg', 'frame2196.jpg', 'frame1860.jpg', 'frame5808.jpg', 'frame18264.jpg', 'frame6756.jpg', 'frame12072.jpg', 'frame11916.jpg', 'frame12648.jpg', 'frame16620.jpg', 'frame10380.jpg', 'frame15120.jpg', 'frame9984.jpg', 'frame11148.jpg', 'frame3564.jpg', 'frame15612.jpg', 'frame12924.jpg', 'frame1968.jpg', 'frame6012.jpg', 'frame11868.jpg', 'frame13356.jpg', 'frame5712.jpg', 'frame19140.jpg', 'frame13464.jpg', 'frame2748.jpg', 'frame6720.jpg', 'frame5688.jpg', 'frame9960.jpg', 'frame4440.jpg', 'frame924.jpg', 'frame16656.jpg', 'frame2172.jpg', 'frame11796.jpg', 'frame8364.jpg', 'frame12096.jpg', 'frame1884.jpg', 'frame15156.jpg', 'frame648.jpg', 'frame7248.jpg', 'frame9036.jpg', 'frame1140.jpg', 'frame16164.jpg', 'frame2640.jpg', 'frame5976.jpg', 'frame4548.jpg', 'frame19092.jpg', 'frame6768.jpg', 'frame13284.jpg', 'frame2700.jpg', 'frame10584.jpg', 'frame3360.jpg', 'frame708.jpg', 'frame7308.jpg', 'frame17376.jpg', 'frame6804.jpg', 'frame11820.jpg', 'frame16716.jpg', 'frame864.jpg', 'frame1956.jpg', 'frame10224.jpg', 'frame15084.jpg', 'frame4500.jpg', 'frame6660.jpg', 'frame12144.jpg', 'frame5160.jpg', 'frame13524.jpg', 'frame600.jpg', 'frame7200.jpg', 'frame5652.jpg', 'frame2964.jpg', 'frame132.jpg', 'frame1092.jpg', 'frame11928.jpg', 'frame16008.jpg', 'frame6744.jpg', 'frame12060.jpg', 'frame18276.jpg', 'frame1872.jpg', 'frame2184.jpg', 'frame11760.jpg', 'frame15708.jpg', 'frame13332.jpg', 'frame7416.jpg', 'frame6828.jpg', 'frame11052.jpg', 'frame8208.jpg', 'frame15864.jpg', 'frame12168.jpg', 'frame12936.jpg', 'frame15600.jpg', 'frame3576.jpg', 'frame9996.jpg', 'frame10392.jpg', 'frame15132.jpg', 'frame16632.jpg', 'frame11904.jpg', 'frame11844.jpg', 'frame5196.jpg', 'frame14412.jpg', 'frame15072.jpg', 'frame6696.jpg', 'frame2808.jpg', 'frame12876.jpg', 'frame10572.jpg', 'frame15924.jpg', 'frame9180.jpg', 'frame3396.jpg', 'frame12612.jpg', 'frame11112.jpg', 'frame13272.jpg', 'frame156.jpg', 'frame15648.jpg', 'frame1932.jpg', 'frame18336.jpg', 'frame11088.jpg', 'frame12120.jpg', 'frame16704.jpg', 'frame876.jpg', 'frame6048.jpg', 'frame11832.jpg', 'frame1188.jpg', 'frame2688.jpg', 'frame7428.jpg', 'frame17364.jpg', 'frame6816.jpg', 'frame5748.jpg', 'frame3372.jpg', 'frame10596.jpg', 'frame13296.jpg', 'frame2712.jpg', 'frame19080.jpg', 'frame1080.jpg', 'frame2976.jpg', 'frame120.jpg', 'frame5640.jpg', 'frame4488.jpg', 'frame13536.jpg', 'frame7212.jpg', 'frame612.jpg', 'frame5172.jpg', 'frame6672.jpg', 'frame12156.jpg', 'frame19188.jpg', 'frame1944.jpg', 'frame10236.jpg', 'frame15096.jpg', 'frame4512.jpg', 'frame4452.jpg', 'frame9972.jpg', 'frame6732.jpg', 'frame13476.jpg', 'frame19152.jpg', 'frame5700.jpg', 'frame3408.jpg', 'frame13344.jpg', 'frame6000.jpg', 'frame5964.jpg', 'frame16176.jpg', 'frame2652.jpg', 'frame1152.jpg', 'frame9024.jpg', 'frame1896.jpg', 'frame15144.jpg', 'frame12084.jpg', 'frame168.jpg', 'frame8376.jpg', 'frame11784.jpg', 'frame6108.jpg', 'frame936.jpg', 'frame16644.jpg', 'frame2160.jpg', 'frame10872.jpg', 'frame9276.jpg', 'frame3060.jpg', 'frame408.jpg', 'frame7008.jpg', 'frame8616.jpg', 'frame19392.jpg', 'frame6468.jpg', 'frame2400.jpg', 'frame8124.jpg', 'frame48.jpg', 'frame16416.jpg', 'frame4692.jpg', 'frame17076.jpg', 'frame11544.jpg', 'frame3168.jpg', 'frame15384.jpg', 'frame3936.jpg', 'frame2508.jpg', 'frame1392.jpg', 'frame18996.jpg', 'frame12576.jpg', 'frame6252.jpg', 'frame7632.jpg', 'frame13116.jpg', 'frame372.jpg', 'frame13056.jpg', 'frame14196.jpg', 'frame5412.jpg', 'frame6312.jpg', 'frame2448.jpg', 'frame3876.jpg', 'frame6420.jpg', 'frame4740.jpg', 'frame13992.jpg', 'frame13764.jpg', 'frame6288.jpg', 'frame19572.jpg', 'frame12396.jpg', 'frame17136.jpg', 'frame3612.jpg', 'frame18180.jpg', 'frame1572.jpg', 'frame11496.jpg', 'frame8064.jpg', 'frame6528.jpg', 'frame17604.jpg', 'frame3120.jpg', 'frame9336.jpg', 'frame10932.jpg', 'frame15564.jpg', 'frame10188.jpg', 'frame19236.jpg', 'frame11340.jpg', 'frame7704.jpg', 'frame13020.jpg', 'frame14748.jpg', 'frame16428.jpg', 'frame1596.jpg', 'frame8628.jpg', 'frame12372.jpg', 'frame6456.jpg', 'frame11472.jpg', 'frame10080.jpg', 'frame13128.jpg', 'frame19596.jpg', 'frame14640.jpg', 'frame14172.jpg', 'frame396.jpg', 'frame16212.jpg', 'frame10944.jpg', 'frame1236.jpg', 'frame3156.jpg', 'frame18972.jpg', 'frame11292.jpg', 'frame13836.jpg', 'frame12408.jpg', 'frame14700.jpg', 'frame13068.jpg', 'frame15360.jpg', 'frame4812.jpg', 'frame576.jpg', 'frame7176.jpg', 'frame11532.jpg', 'frame14964.jpg', 'frame6516.jpg', 'frame18024.jpg', 'frame10152.jpg', 'frame3084.jpg', 'frame10896.jpg', 'frame7644.jpg', 'frame3528.jpg', 'frame2916.jpg', 'frame6120.jpg', 'frame2148.jpg', 'frame5088.jpg', 'frame6612.jpg', 'frame4572.jpg', 'frame9852.jpg', 'frame7272.jpg', 'frame672.jpg', 'frame19740.jpg', 'frame18588.jpg', 'frame14496.jpg', 'frame5112.jpg', 'frame17304.jpg', 'frame6876.jpg', 'frame3420.jpg', 'frame1740.jpg', 'frame9636.jpg', 'frame3288.jpg', 'frame2040.jpg', 'frame16992.jpg', 'frame16764.jpg', 'frame816.jpg', 'frame8256.jpg', 'frame2772.jpg', 'frame16056.jpg', 'frame11196.jpg', 'frame18228.jpg', 'frame5844.jpg', 'frame12696.jpg', 'frame17436.jpg', 'frame3312.jpg', 'frame15756.jpg', 'frame18480.jpg', 'frame4392.jpg', 'frame3252.jpg', 'frame5904.jpg', 'frame8424.jpg', 'frame16116.jpg', 'frame14544.jpg', 'frame8316.jpg', 'frame19692.jpg', 'frame2100.jpg', 'frame6168.jpg', 'frame108.jpg', 'frame6936.jpg', 'frame17244.jpg', 'frame5052.jpg', 'frame7332.jpg', 'frame732.jpg', 'frame13416.jpg', 'frame12828.jpg', 'frame9912.jpg', 'frame1692.jpg', 'frame18552.jpg', 'frame15684.jpg', 'frame12744.jpg', 'frame6060.jpg', 'frame9888.jpg', 'frame5760.jpg', 'frame2856.jpg', 'frame3468.jpg', 'frame6084.jpg', 'frame15660.jpg', 'frame12108.jpg', 'frame5784.jpg', 'frame14532.jpg', 'frame11964.jpg', 'frame17232.jpg', 'frame3516.jpg', 'frame2928.jpg', 'frame7344.jpg', 'frame744.jpg', 'frame16836.jpg', 'frame15768.jpg', 'frame11700.jpg', 'frame12000.jpg', 'frame16068.jpg', 'frame1812.jpg', 'frame18216.jpg', 'frame9792.jpg', 'frame12732.jpg', 'frame17592.jpg', 'frame828.jpg', 'frame15804.jpg', 'frame8268.jpg', 'frame10452.jpg', 'frame7476.jpg', 'frame2820.jpg', 'frame14292.jpg', 'frame11172.jpg', 'frame8580.jpg', 'frame2796.jpg', 'frame7536.jpg', 'frame13212.jpg', 'frame8328.jpg', 'frame4236.jpg', 'frame10512.jpg', 'frame12672.jpg', 'frame6156.jpg', 'frame16128.jpg', 'frame11640.jpg', 'frame10488.jpg', 'frame4596.jpg', 'frame15012.jpg', 'frame2868.jpg', 'frame3456.jpg', 'frame14472.jpg', 'frame8220.jpg', 'frame7296.jpg', 'frame696.jpg', 'frame14340.jpg', 'frame5832.jpg', 'frame16020.jpg', 'frame12048.jpg', 'frame11748.jpg', 'frame15720.jpg', 'frame13428.jpg', 'frame12816.jpg', 'frame12528.jpg', 'frame14088.jpg', 'frame4932.jpg', 'frame15240.jpg', 'frame18852.jpg', 'frame84.jpg', 'frame6396.jpg', 'frame9588.jpg', 'frame5496.jpg', 'frame14112.jpg', 'frame16272.jpg', 'frame2556.jpg', 'frame18636.jpg', 'frame10740.jpg', 'frame12420.jpg', 'frame15348.jpg', 'frame7992.jpg', 'frame7764.jpg', 'frame12288.jpg', 'frame17028.jpg', 'frame9228.jpg', 'frame14844.jpg', 'frame11412.jpg', 'frame456.jpg', 'frame7056.jpg', 'frame9480.jpg', 'frame3696.jpg', 'frame12312.jpg', 'frame6576.jpg', 'frame12252.jpg', 'frame13632.jpg', 'frame516.jpg', 'frame7116.jpg', 'frame14904.jpg', 'frame2484.jpg', 'frame5544.jpg', 'frame3828.jpg', 'frame16332.jpg', 'frame14052.jpg', 'frame10692.jpg', 'frame15432.jpg', 'frame18912.jpg', 'frame3744.jpg', 'frame13008.jpg', 'frame15300.jpg', 'frame4872.jpg', 'frame9552.jpg', 'frame12468.jpg', 'frame18888.jpg', 'frame14760.jpg', 'frame8988.jpg', 'frame4896.jpg', 'frame2568.jpg', 'frame14784.jpg', 'frame19452.jpg', 'frame13644.jpg', 'frame3108.jpg', 'frame5532.jpg', 'frame13176.jpg', 'frame252.jpg', 'frame4152.jpg', 'frame17940.jpg', 'frame12516.jpg', 'frame8880.jpg', 'frame8676.jpg', 'frame16344.jpg', 'frame7836.jpg', 'frame2460.jpg', 'frame6408.jpg', 'frame9216.jpg', 'frame18792.jpg', 'frame15444.jpg', 'frame10812.jpg', 'frame468.jpg', 'frame7068.jpg', 'frame3000.jpg', 'frame17724.jpg', 'frame1452.jpg', 'frame3732.jpg', 'frame17016.jpg', 'frame5292.jpg', 'frame16476.jpg', 'frame2352.jpg', 'frame16536.jpg', 'frame8004.jpg', 'frame3672.jpg', 'frame4944.jpg', 'frame1512.jpg', 'frame17892.jpg', 'frame17664.jpg', 'frame2388.jpg', 'frame528.jpg', 'frame7128.jpg', 'frame15504.jpg', 'frame4080.jpg', 'frame2520.jpg', 'frame8736.jpg', 'frame1488.jpg', 'frame6372.jpg', 'frame60.jpg', 'frame12456.jpg', 'frame19488.jpg', 'frame16296.jpg', 'frame312.jpg', 'frame8952.jpg', 'frame5472.jpg', 'frame3048.jpg', 'frame13704.jpg', 'frame420.jpg', 'frame7020.jpg', 'frame2280.jpg', 'frame19512.jpg', 'frame4188.jpg', 'frame5340.jpg', 'frame14832.jpg', 'frame3816.jpg', 'frame288.jpg', 'frame8868.jpg', 'frame15204.jpg', 'frame9456.jpg', 'frame228.jpg', 'frame4128.jpg', 'frame14892.jpg', 'frame14664.jpg', 'frame2220.jpg', 'frame7080.jpg', 'frame480.jpg', 'frame18048.jpg', 'frame7944.jpg', 'frame16236.jpg', 'frame19428.jpg', 'frame1212.jpg', 'frame18816.jpg', 'frame19212.jpg', 'frame8796.jpg', 'frame1428.jpg', 'frame11364.jpg', 'frame2580.jpg', 'frame10704.jpg', 'frame4020.jpg', 'frame18672.jpg', 'frame17832.jpg', 'frame7188.jpg', 'frame588.jpg', 'frame2328.jpg', 'frame16596.jpg', 'frame7152.jpg', 'frame552.jpg', 'frame14940.jpg', 'frame5232.jpg', 'frame3792.jpg', 'frame12216.jpg', 'frame18000.jpg', 'frame10176.jpg', 'frame2268.jpg', 'frame17784.jpg', 'frame18732.jpg', 'frame10644.jpg', 'frame7896.jpg', 'frame8820.jpg', 'frame5592.jpg', 'frame14016.jpg', 'frame18108.jpg', 'frame13812.jpg', 'frame14724.jpg', 'frame4068.jpg', 'frame9516.jpg', 'frame4836.jpg', 'frame8928.jpg', 'frame19416.jpg', 'frame5244.jpg', 'frame18828.jpg', 'frame3912.jpg', 'frame15492.jpg'])\n"
     ]
    }
   ],
   "source": [
    "# testing\n",
    "ROOT_DIR = os.path.abspath(\".\")\n",
    "BASKETBALL_DIR = os.path.join(ROOT_DIR, \"datasets/basketball/train/\")\n",
    "#print(ROOT_DIR)\n",
    "old = open('via_region_data.json')\n",
    "new = open(BASKETBALL_DIR + 'allImages.json')\n",
    "one = old.read()\n",
    "dict1 = json.loads(one)\n",
    "two = new.read()\n",
    "dict2 = {}\n",
    "dict2 = json.loads(two)\n",
    "\n",
    "#print(type(list(mydict.values())[0]))\n",
    "#print(mydict.keys())\n",
    "#print(dict1.keys())\n",
    "#print(list(dict2.keys())[0])\n",
    "#print(list(dict2.values())[0])\n",
    "#x = list(dict2.items())\n",
    "#print(x[0][0])\n",
    "#print(x[0][1])\n",
    "\n",
    "print(dict2.keys())"
   ]
  },
  {
   "cell_type": "code",
   "execution_count": 6,
   "metadata": {
    "scrolled": false
   },
   "outputs": [],
   "source": [
    "# Merging all json files in form of dictionary, with keys being names of jpg files\n",
    "\n",
    "path_to_json = 'basketball_json'\n",
    "json_files = [pos_json for pos_json in os.listdir(path_to_json) if pos_json.endswith('.json')]\n",
    "#json_files = sorted(json_files, key = lambda x: int(x[5:-9]))\n",
    "json_files_1 = json_files[:int(len(json_files)*0.8)]\n",
    "json_files_2 = json_files[int(len(json_files)*0.8):]\n",
    "dict1 = {}\n",
    "dict2 = {}\n",
    "\n",
    "vals_0 = {'fileref':\"\",'size':\"\", 'filename':\"\",'base_64_img_data': \"\", \"file_attributes\":{}, 'regions':{}}\n",
    "shapeatts = {'name':\"\", \"all_points_x\":[], \"all_points_y\":[]}\n",
    "#vals['filref'] =\n",
    "\n",
    "\n",
    "for name in json_files_1:\n",
    "    vals = copy.deepcopy(vals_0)\n",
    "    filename = (name[:-5])\n",
    "    file = open('basketball_json/'+ name)\n",
    "    values = json.load(file)\n",
    "    objects = (values['objects'])\n",
    "    vals['regions'] = {str(i): {\"shape_attributes\":copy.deepcopy(shapeatts)} for i in range(len(objects))}\n",
    "    for i in range(len(objects)):\n",
    "        classOfObject = objects[i]['classTitle']\n",
    "        pointsOfObject = objects[i]['points']['exterior']\n",
    "        all_points_x = []\n",
    "        all_points_y = []\n",
    "        for j in range(len(pointsOfObject)):\n",
    "            all_points_x.append(pointsOfObject[j][0])\n",
    "            all_points_y.append(pointsOfObject[j][1])\n",
    "        vals['regions'][str(i)]['shape_attributes']['all_points_x'] = all_points_x\n",
    "        vals['regions'][str(i)]['shape_attributes']['all_points_y'] = all_points_y\n",
    "        vals['regions'][str(i)]['shape_attributes']['name'] = classOfObject\n",
    "    vals['filename'] = filename\n",
    "    dict1[filename] = vals\n",
    "with open('allImages.json', 'w') as fp:\n",
    "    json.dump(dict1, fp)\n",
    "\n",
    "for name in json_files_2:\n",
    "    vals = copy.deepcopy(vals_0)\n",
    "    filename = (name[:-5])\n",
    "    file = open('basketball_json/'+ name)\n",
    "    values = json.load(file)\n",
    "    objects = (values['objects'])\n",
    "    vals['regions'] = {str(i): {\"shape_attributes\":copy.deepcopy(shapeatts)} for i in range(len(objects))}\n",
    "    for i in range(len(objects)):\n",
    "        classOfObject = objects[i]['classTitle']\n",
    "        pointsOfObject = objects[i]['points']['exterior']\n",
    "        all_points_x = []\n",
    "        all_points_y = []\n",
    "        for j in range(len(pointsOfObject)):\n",
    "            all_points_x.append(pointsOfObject[j][0])\n",
    "            all_points_y.append(pointsOfObject[j][1])\n",
    "        vals['regions'][str(i)]['shape_attributes']['all_points_x'] = all_points_x\n",
    "        vals['regions'][str(i)]['shape_attributes']['all_points_y'] = all_points_y\n",
    "        vals['regions'][str(i)]['shape_attributes']['name'] = classOfObject\n",
    "    vals['filename'] = filename\n",
    "    dict2[filename] = vals\n",
    "with open('allImages1.json', 'w') as fp:\n",
    "    json.dump(dict2, fp)\n"
   ]
  },
  {
   "cell_type": "code",
   "execution_count": 63,
   "metadata": {},
   "outputs": [],
   "source": [
    "#for key in dict1:\n",
    "   # temp = dict1.get(key)\n",
    "   # if type(temp[tags])"
   ]
  },
  {
   "cell_type": "code",
   "execution_count": null,
   "metadata": {},
   "outputs": [],
   "source": []
  }
 ],
 "metadata": {
  "kernelspec": {
   "display_name": "Python 3",
   "language": "python",
   "name": "python3"
  },
  "language_info": {
   "codemirror_mode": {
    "name": "ipython",
    "version": 3
   },
   "file_extension": ".py",
   "mimetype": "text/x-python",
   "name": "python",
   "nbconvert_exporter": "python",
   "pygments_lexer": "ipython3",
   "version": "3.7.3"
  }
 },
 "nbformat": 4,
 "nbformat_minor": 2
}
